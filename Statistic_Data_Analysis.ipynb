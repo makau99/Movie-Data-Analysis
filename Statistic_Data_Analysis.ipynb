{
  "cells": [
    {
      "cell_type": "code",
      "execution_count": 2,
      "metadata": {
        "id": "kcMhkwNW5nuN"
      },
      "outputs": [],
      "source": [
        "import pandas as pd\n",
        "import ast\n",
        "import requests\n",
        "import time\n",
        "import sqlite3\n",
        "import matplotlib.pyplot as plt\n",
        "import numpy as np\n",
        "from scipy.stats import norm\n",
        "from scipy.stats import t\n",
        "from scipy.stats import ttest_1samp\n",
        "from sklearn.linear_model import LinearRegression\n",
        "from sklearn.model_selection import train_test_split\n",
        "import seaborn as sns\n",
        "from sklearn.feature_extraction.text import CountVectorizer\n",
        "from sklearn.metrics.pairwise import cosine_similarity"
      ]
    },
    {
      "cell_type": "code",
      "source": [
        "merged_data = pd.read_csv('merged_movies.csv')\n",
        "merged_data.head()"
      ],
      "metadata": {
        "colab": {
          "base_uri": "https://localhost:8080/",
          "height": 570
        },
        "id": "Sty5s9RofkZW",
        "outputId": "84374722-598e-4482-c3c9-d6dd88e481e6"
      },
      "execution_count": 11,
      "outputs": [
        {
          "output_type": "execute_result",
          "data": {
            "text/plain": [
              "   primary_title  start_year  runtime_minutes              genres  \\\n",
              "0   #ALLMYMOVIES        2015              NaN         Documentary   \n",
              "1      #Captured        2017             81.0            Thriller   \n",
              "2  #FollowFriday        2016             90.0            Thriller   \n",
              "3        #Horror        2015            101.0  Crime,Drama,Horror   \n",
              "4  #Lucky Number        2015             80.0              Comedy   \n",
              "\n",
              "   vote_average  vote_count  \\\n",
              "0           9.0           4   \n",
              "1           3.2           6   \n",
              "2           3.2           7   \n",
              "3           3.3         102   \n",
              "4           6.0           2   \n",
              "\n",
              "                                            Top Cast                Director  \\\n",
              "0                                       Shia LaBeouf             Luke Turner   \n",
              "1  Lizze Gordon, Cody Renee Cameron, Eve Marlowe,...             Joe Homokay   \n",
              "2  Courtney Lakin, Joseph Poliquin, Ashley Bratch...            Micho Rutare   \n",
              "3  Chloë Sevigny, Timothy Hutton, Natasha Lyonne,...            Tara Subkoff   \n",
              "4  Tom Pelphrey, Natalie Hall, Method Man, Malcol...  Brendan Gabriel Murphy   \n",
              "\n",
              "   popularity     Budget Revenue  \n",
              "0       0.840        0.0       0  \n",
              "1       1.418        0.0       0  \n",
              "2       1.646        0.0       0  \n",
              "3       6.099  1500000.0       0  \n",
              "4       0.919  1000000.0       0  "
            ],
            "text/html": [
              "\n",
              "  <div id=\"df-c19f03dd-976a-4cbc-9670-eb62cbc06c20\" class=\"colab-df-container\">\n",
              "    <div>\n",
              "<style scoped>\n",
              "    .dataframe tbody tr th:only-of-type {\n",
              "        vertical-align: middle;\n",
              "    }\n",
              "\n",
              "    .dataframe tbody tr th {\n",
              "        vertical-align: top;\n",
              "    }\n",
              "\n",
              "    .dataframe thead th {\n",
              "        text-align: right;\n",
              "    }\n",
              "</style>\n",
              "<table border=\"1\" class=\"dataframe\">\n",
              "  <thead>\n",
              "    <tr style=\"text-align: right;\">\n",
              "      <th></th>\n",
              "      <th>primary_title</th>\n",
              "      <th>start_year</th>\n",
              "      <th>runtime_minutes</th>\n",
              "      <th>genres</th>\n",
              "      <th>vote_average</th>\n",
              "      <th>vote_count</th>\n",
              "      <th>Top Cast</th>\n",
              "      <th>Director</th>\n",
              "      <th>popularity</th>\n",
              "      <th>Budget</th>\n",
              "      <th>Revenue</th>\n",
              "    </tr>\n",
              "  </thead>\n",
              "  <tbody>\n",
              "    <tr>\n",
              "      <th>0</th>\n",
              "      <td>#ALLMYMOVIES</td>\n",
              "      <td>2015</td>\n",
              "      <td>NaN</td>\n",
              "      <td>Documentary</td>\n",
              "      <td>9.0</td>\n",
              "      <td>4</td>\n",
              "      <td>Shia LaBeouf</td>\n",
              "      <td>Luke Turner</td>\n",
              "      <td>0.840</td>\n",
              "      <td>0.0</td>\n",
              "      <td>0</td>\n",
              "    </tr>\n",
              "    <tr>\n",
              "      <th>1</th>\n",
              "      <td>#Captured</td>\n",
              "      <td>2017</td>\n",
              "      <td>81.0</td>\n",
              "      <td>Thriller</td>\n",
              "      <td>3.2</td>\n",
              "      <td>6</td>\n",
              "      <td>Lizze Gordon, Cody Renee Cameron, Eve Marlowe,...</td>\n",
              "      <td>Joe Homokay</td>\n",
              "      <td>1.418</td>\n",
              "      <td>0.0</td>\n",
              "      <td>0</td>\n",
              "    </tr>\n",
              "    <tr>\n",
              "      <th>2</th>\n",
              "      <td>#FollowFriday</td>\n",
              "      <td>2016</td>\n",
              "      <td>90.0</td>\n",
              "      <td>Thriller</td>\n",
              "      <td>3.2</td>\n",
              "      <td>7</td>\n",
              "      <td>Courtney Lakin, Joseph Poliquin, Ashley Bratch...</td>\n",
              "      <td>Micho Rutare</td>\n",
              "      <td>1.646</td>\n",
              "      <td>0.0</td>\n",
              "      <td>0</td>\n",
              "    </tr>\n",
              "    <tr>\n",
              "      <th>3</th>\n",
              "      <td>#Horror</td>\n",
              "      <td>2015</td>\n",
              "      <td>101.0</td>\n",
              "      <td>Crime,Drama,Horror</td>\n",
              "      <td>3.3</td>\n",
              "      <td>102</td>\n",
              "      <td>Chloë Sevigny, Timothy Hutton, Natasha Lyonne,...</td>\n",
              "      <td>Tara Subkoff</td>\n",
              "      <td>6.099</td>\n",
              "      <td>1500000.0</td>\n",
              "      <td>0</td>\n",
              "    </tr>\n",
              "    <tr>\n",
              "      <th>4</th>\n",
              "      <td>#Lucky Number</td>\n",
              "      <td>2015</td>\n",
              "      <td>80.0</td>\n",
              "      <td>Comedy</td>\n",
              "      <td>6.0</td>\n",
              "      <td>2</td>\n",
              "      <td>Tom Pelphrey, Natalie Hall, Method Man, Malcol...</td>\n",
              "      <td>Brendan Gabriel Murphy</td>\n",
              "      <td>0.919</td>\n",
              "      <td>1000000.0</td>\n",
              "      <td>0</td>\n",
              "    </tr>\n",
              "  </tbody>\n",
              "</table>\n",
              "</div>\n",
              "    <div class=\"colab-df-buttons\">\n",
              "\n",
              "  <div class=\"colab-df-container\">\n",
              "    <button class=\"colab-df-convert\" onclick=\"convertToInteractive('df-c19f03dd-976a-4cbc-9670-eb62cbc06c20')\"\n",
              "            title=\"Convert this dataframe to an interactive table.\"\n",
              "            style=\"display:none;\">\n",
              "\n",
              "  <svg xmlns=\"http://www.w3.org/2000/svg\" height=\"24px\" viewBox=\"0 -960 960 960\">\n",
              "    <path d=\"M120-120v-720h720v720H120Zm60-500h600v-160H180v160Zm220 220h160v-160H400v160Zm0 220h160v-160H400v160ZM180-400h160v-160H180v160Zm440 0h160v-160H620v160ZM180-180h160v-160H180v160Zm440 0h160v-160H620v160Z\"/>\n",
              "  </svg>\n",
              "    </button>\n",
              "\n",
              "  <style>\n",
              "    .colab-df-container {\n",
              "      display:flex;\n",
              "      gap: 12px;\n",
              "    }\n",
              "\n",
              "    .colab-df-convert {\n",
              "      background-color: #E8F0FE;\n",
              "      border: none;\n",
              "      border-radius: 50%;\n",
              "      cursor: pointer;\n",
              "      display: none;\n",
              "      fill: #1967D2;\n",
              "      height: 32px;\n",
              "      padding: 0 0 0 0;\n",
              "      width: 32px;\n",
              "    }\n",
              "\n",
              "    .colab-df-convert:hover {\n",
              "      background-color: #E2EBFA;\n",
              "      box-shadow: 0px 1px 2px rgba(60, 64, 67, 0.3), 0px 1px 3px 1px rgba(60, 64, 67, 0.15);\n",
              "      fill: #174EA6;\n",
              "    }\n",
              "\n",
              "    .colab-df-buttons div {\n",
              "      margin-bottom: 4px;\n",
              "    }\n",
              "\n",
              "    [theme=dark] .colab-df-convert {\n",
              "      background-color: #3B4455;\n",
              "      fill: #D2E3FC;\n",
              "    }\n",
              "\n",
              "    [theme=dark] .colab-df-convert:hover {\n",
              "      background-color: #434B5C;\n",
              "      box-shadow: 0px 1px 3px 1px rgba(0, 0, 0, 0.15);\n",
              "      filter: drop-shadow(0px 1px 2px rgba(0, 0, 0, 0.3));\n",
              "      fill: #FFFFFF;\n",
              "    }\n",
              "  </style>\n",
              "\n",
              "    <script>\n",
              "      const buttonEl =\n",
              "        document.querySelector('#df-c19f03dd-976a-4cbc-9670-eb62cbc06c20 button.colab-df-convert');\n",
              "      buttonEl.style.display =\n",
              "        google.colab.kernel.accessAllowed ? 'block' : 'none';\n",
              "\n",
              "      async function convertToInteractive(key) {\n",
              "        const element = document.querySelector('#df-c19f03dd-976a-4cbc-9670-eb62cbc06c20');\n",
              "        const dataTable =\n",
              "          await google.colab.kernel.invokeFunction('convertToInteractive',\n",
              "                                                    [key], {});\n",
              "        if (!dataTable) return;\n",
              "\n",
              "        const docLinkHtml = 'Like what you see? Visit the ' +\n",
              "          '<a target=\"_blank\" href=https://colab.research.google.com/notebooks/data_table.ipynb>data table notebook</a>'\n",
              "          + ' to learn more about interactive tables.';\n",
              "        element.innerHTML = '';\n",
              "        dataTable['output_type'] = 'display_data';\n",
              "        await google.colab.output.renderOutput(dataTable, element);\n",
              "        const docLink = document.createElement('div');\n",
              "        docLink.innerHTML = docLinkHtml;\n",
              "        element.appendChild(docLink);\n",
              "      }\n",
              "    </script>\n",
              "  </div>\n",
              "\n",
              "\n",
              "<div id=\"df-6aaebf30-7941-42df-8975-c3bc25bdc2fc\">\n",
              "  <button class=\"colab-df-quickchart\" onclick=\"quickchart('df-6aaebf30-7941-42df-8975-c3bc25bdc2fc')\"\n",
              "            title=\"Suggest charts\"\n",
              "            style=\"display:none;\">\n",
              "\n",
              "<svg xmlns=\"http://www.w3.org/2000/svg\" height=\"24px\"viewBox=\"0 0 24 24\"\n",
              "     width=\"24px\">\n",
              "    <g>\n",
              "        <path d=\"M19 3H5c-1.1 0-2 .9-2 2v14c0 1.1.9 2 2 2h14c1.1 0 2-.9 2-2V5c0-1.1-.9-2-2-2zM9 17H7v-7h2v7zm4 0h-2V7h2v10zm4 0h-2v-4h2v4z\"/>\n",
              "    </g>\n",
              "</svg>\n",
              "  </button>\n",
              "\n",
              "<style>\n",
              "  .colab-df-quickchart {\n",
              "      --bg-color: #E8F0FE;\n",
              "      --fill-color: #1967D2;\n",
              "      --hover-bg-color: #E2EBFA;\n",
              "      --hover-fill-color: #174EA6;\n",
              "      --disabled-fill-color: #AAA;\n",
              "      --disabled-bg-color: #DDD;\n",
              "  }\n",
              "\n",
              "  [theme=dark] .colab-df-quickchart {\n",
              "      --bg-color: #3B4455;\n",
              "      --fill-color: #D2E3FC;\n",
              "      --hover-bg-color: #434B5C;\n",
              "      --hover-fill-color: #FFFFFF;\n",
              "      --disabled-bg-color: #3B4455;\n",
              "      --disabled-fill-color: #666;\n",
              "  }\n",
              "\n",
              "  .colab-df-quickchart {\n",
              "    background-color: var(--bg-color);\n",
              "    border: none;\n",
              "    border-radius: 50%;\n",
              "    cursor: pointer;\n",
              "    display: none;\n",
              "    fill: var(--fill-color);\n",
              "    height: 32px;\n",
              "    padding: 0;\n",
              "    width: 32px;\n",
              "  }\n",
              "\n",
              "  .colab-df-quickchart:hover {\n",
              "    background-color: var(--hover-bg-color);\n",
              "    box-shadow: 0 1px 2px rgba(60, 64, 67, 0.3), 0 1px 3px 1px rgba(60, 64, 67, 0.15);\n",
              "    fill: var(--button-hover-fill-color);\n",
              "  }\n",
              "\n",
              "  .colab-df-quickchart-complete:disabled,\n",
              "  .colab-df-quickchart-complete:disabled:hover {\n",
              "    background-color: var(--disabled-bg-color);\n",
              "    fill: var(--disabled-fill-color);\n",
              "    box-shadow: none;\n",
              "  }\n",
              "\n",
              "  .colab-df-spinner {\n",
              "    border: 2px solid var(--fill-color);\n",
              "    border-color: transparent;\n",
              "    border-bottom-color: var(--fill-color);\n",
              "    animation:\n",
              "      spin 1s steps(1) infinite;\n",
              "  }\n",
              "\n",
              "  @keyframes spin {\n",
              "    0% {\n",
              "      border-color: transparent;\n",
              "      border-bottom-color: var(--fill-color);\n",
              "      border-left-color: var(--fill-color);\n",
              "    }\n",
              "    20% {\n",
              "      border-color: transparent;\n",
              "      border-left-color: var(--fill-color);\n",
              "      border-top-color: var(--fill-color);\n",
              "    }\n",
              "    30% {\n",
              "      border-color: transparent;\n",
              "      border-left-color: var(--fill-color);\n",
              "      border-top-color: var(--fill-color);\n",
              "      border-right-color: var(--fill-color);\n",
              "    }\n",
              "    40% {\n",
              "      border-color: transparent;\n",
              "      border-right-color: var(--fill-color);\n",
              "      border-top-color: var(--fill-color);\n",
              "    }\n",
              "    60% {\n",
              "      border-color: transparent;\n",
              "      border-right-color: var(--fill-color);\n",
              "    }\n",
              "    80% {\n",
              "      border-color: transparent;\n",
              "      border-right-color: var(--fill-color);\n",
              "      border-bottom-color: var(--fill-color);\n",
              "    }\n",
              "    90% {\n",
              "      border-color: transparent;\n",
              "      border-bottom-color: var(--fill-color);\n",
              "    }\n",
              "  }\n",
              "</style>\n",
              "\n",
              "  <script>\n",
              "    async function quickchart(key) {\n",
              "      const quickchartButtonEl =\n",
              "        document.querySelector('#' + key + ' button');\n",
              "      quickchartButtonEl.disabled = true;  // To prevent multiple clicks.\n",
              "      quickchartButtonEl.classList.add('colab-df-spinner');\n",
              "      try {\n",
              "        const charts = await google.colab.kernel.invokeFunction(\n",
              "            'suggestCharts', [key], {});\n",
              "      } catch (error) {\n",
              "        console.error('Error during call to suggestCharts:', error);\n",
              "      }\n",
              "      quickchartButtonEl.classList.remove('colab-df-spinner');\n",
              "      quickchartButtonEl.classList.add('colab-df-quickchart-complete');\n",
              "    }\n",
              "    (() => {\n",
              "      let quickchartButtonEl =\n",
              "        document.querySelector('#df-6aaebf30-7941-42df-8975-c3bc25bdc2fc button');\n",
              "      quickchartButtonEl.style.display =\n",
              "        google.colab.kernel.accessAllowed ? 'block' : 'none';\n",
              "    })();\n",
              "  </script>\n",
              "</div>\n",
              "\n",
              "    </div>\n",
              "  </div>\n"
            ],
            "application/vnd.google.colaboratory.intrinsic+json": {
              "type": "dataframe",
              "variable_name": "merged_data",
              "summary": "{\n  \"name\": \"merged_data\",\n  \"rows\": 15369,\n  \"fields\": [\n    {\n      \"column\": \"primary_title\",\n      \"properties\": {\n        \"dtype\": \"string\",\n        \"num_unique_values\": 15369,\n        \"samples\": [\n          \"Unknown Caller\",\n          \"Nothing Left to Fear\",\n          \"The One I Wrote for You\"\n        ],\n        \"semantic_type\": \"\",\n        \"description\": \"\"\n      }\n    },\n    {\n      \"column\": \"start_year\",\n      \"properties\": {\n        \"dtype\": \"number\",\n        \"std\": 2,\n        \"min\": 2010,\n        \"max\": 2021,\n        \"num_unique_values\": 12,\n        \"samples\": [\n          2020,\n          2019,\n          2015\n        ],\n        \"semantic_type\": \"\",\n        \"description\": \"\"\n      }\n    },\n    {\n      \"column\": \"runtime_minutes\",\n      \"properties\": {\n        \"dtype\": \"number\",\n        \"std\": 25.1410128733357,\n        \"min\": 1.0,\n        \"max\": 1834.0,\n        \"num_unique_values\": 199,\n        \"samples\": [\n          67.0,\n          22.0,\n          33.0\n        ],\n        \"semantic_type\": \"\",\n        \"description\": \"\"\n      }\n    },\n    {\n      \"column\": \"genres\",\n      \"properties\": {\n        \"dtype\": \"category\",\n        \"num_unique_values\": 608,\n        \"samples\": [\n          \"Fantasy,Horror,Mystery\",\n          \"Action,Drama,Thriller\",\n          \"Adventure,Sci-Fi\"\n        ],\n        \"semantic_type\": \"\",\n        \"description\": \"\"\n      }\n    },\n    {\n      \"column\": \"vote_average\",\n      \"properties\": {\n        \"dtype\": \"number\",\n        \"std\": 1.765315527045534,\n        \"min\": 0.0,\n        \"max\": 10.0,\n        \"num_unique_values\": 90,\n        \"samples\": [\n          4.6,\n          6.6,\n          3.9\n        ],\n        \"semantic_type\": \"\",\n        \"description\": \"\"\n      }\n    },\n    {\n      \"column\": \"vote_count\",\n      \"properties\": {\n        \"dtype\": \"number\",\n        \"std\": 1126,\n        \"min\": 1,\n        \"max\": 22186,\n        \"num_unique_values\": 1567,\n        \"samples\": [\n          349,\n          1249,\n          1314\n        ],\n        \"semantic_type\": \"\",\n        \"description\": \"\"\n      }\n    },\n    {\n      \"column\": \"Top Cast\",\n      \"properties\": {\n        \"dtype\": \"string\",\n        \"num_unique_values\": 14212,\n        \"samples\": [\n          \"Elijah Wood, John Cusack, Tamsin Egerton, Allen Leech, Kerry Bish\\u00e9\",\n          \"Christy Turlington, Henry Cisneros, Cesar Conde, Victor Cruz, Ralph de La Vega\",\n          \"Louis Koo, Shawn Yue Man-Lok, Tong Liya, Joseph Chang, Michael Tse Tin-Wah\"\n        ],\n        \"semantic_type\": \"\",\n        \"description\": \"\"\n      }\n    },\n    {\n      \"column\": \"Director\",\n      \"properties\": {\n        \"dtype\": \"string\",\n        \"num_unique_values\": 11208,\n        \"samples\": [\n          \"Mars Horodyski\",\n          \"Shayna Connelly\",\n          \"Brett Story\"\n        ],\n        \"semantic_type\": \"\",\n        \"description\": \"\"\n      }\n    },\n    {\n      \"column\": \"popularity\",\n      \"properties\": {\n        \"dtype\": \"number\",\n        \"std\": 4.8940755762851635,\n        \"min\": 0.6,\n        \"max\": 80.773,\n        \"num_unique_values\": 6295,\n        \"samples\": [\n          4.817,\n          4.956,\n          2.806\n        ],\n        \"semantic_type\": \"\",\n        \"description\": \"\"\n      }\n    },\n    {\n      \"column\": \"Budget\",\n      \"properties\": {\n        \"dtype\": \"number\",\n        \"std\": 22256356.46377646,\n        \"min\": 0.0,\n        \"max\": 379000000.0,\n        \"num_unique_values\": 691,\n        \"samples\": [\n          2.0,\n          273428.0,\n          271323.0\n        ],\n        \"semantic_type\": \"\",\n        \"description\": \"\"\n      }\n    },\n    {\n      \"column\": \"Revenue\",\n      \"properties\": {\n        \"dtype\": \"category\",\n        \"num_unique_values\": 3058,\n        \"samples\": [\n          \"539896\",\n          \"542300000\",\n          \"15575\"\n        ],\n        \"semantic_type\": \"\",\n        \"description\": \"\"\n      }\n    }\n  ]\n}"
            }
          },
          "metadata": {},
          "execution_count": 11
        }
      ]
    },
    {
      "cell_type": "code",
      "source": [
        "merged_data.columns"
      ],
      "metadata": {
        "colab": {
          "base_uri": "https://localhost:8080/"
        },
        "id": "lLS_JIPUNKUY",
        "outputId": "2c1d70c5-316a-4811-a43a-adbac5aaaaf7"
      },
      "execution_count": 12,
      "outputs": [
        {
          "output_type": "execute_result",
          "data": {
            "text/plain": [
              "Index(['primary_title', 'start_year', 'runtime_minutes', 'genres',\n",
              "       'vote_average', 'vote_count', 'Top Cast', 'Director', 'popularity',\n",
              "       'Budget', 'Revenue'],\n",
              "      dtype='object')"
            ]
          },
          "metadata": {},
          "execution_count": 12
        }
      ]
    },
    {
      "cell_type": "code",
      "source": [
        "merged_data.describe()"
      ],
      "metadata": {
        "colab": {
          "base_uri": "https://localhost:8080/",
          "height": 300
        },
        "id": "CKqNvFGvNFLz",
        "outputId": "c72520d3-3acd-4a61-d0aa-dfc9e80323d6"
      },
      "execution_count": 13,
      "outputs": [
        {
          "output_type": "execute_result",
          "data": {
            "text/plain": [
              "         start_year  runtime_minutes  vote_average    vote_count  \\\n",
              "count  15369.000000     14736.000000  15369.000000  15369.000000   \n",
              "mean    2014.183747        93.392983      5.796272    262.441668   \n",
              "std        2.528045        25.141013      1.765316   1126.980443   \n",
              "min     2010.000000         1.000000      0.000000      1.000000   \n",
              "25%     2012.000000        84.000000      5.000000      2.000000   \n",
              "50%     2014.000000        91.000000      6.000000      7.000000   \n",
              "75%     2016.000000       102.000000      6.900000     48.000000   \n",
              "max     2021.000000      1834.000000     10.000000  22186.000000   \n",
              "\n",
              "         popularity        Budget  \n",
              "count  15369.000000  1.527400e+04  \n",
              "mean       3.735265  5.328738e+06  \n",
              "std        4.894076  2.225636e+07  \n",
              "min        0.600000  0.000000e+00  \n",
              "25%        0.655000  0.000000e+00  \n",
              "50%        1.688000  0.000000e+00  \n",
              "75%        5.436000  5.750000e+00  \n",
              "max       80.773000  3.790000e+08  "
            ],
            "text/html": [
              "\n",
              "  <div id=\"df-55b5ad7c-0ffd-4371-b4f8-b0eb4f975930\" class=\"colab-df-container\">\n",
              "    <div>\n",
              "<style scoped>\n",
              "    .dataframe tbody tr th:only-of-type {\n",
              "        vertical-align: middle;\n",
              "    }\n",
              "\n",
              "    .dataframe tbody tr th {\n",
              "        vertical-align: top;\n",
              "    }\n",
              "\n",
              "    .dataframe thead th {\n",
              "        text-align: right;\n",
              "    }\n",
              "</style>\n",
              "<table border=\"1\" class=\"dataframe\">\n",
              "  <thead>\n",
              "    <tr style=\"text-align: right;\">\n",
              "      <th></th>\n",
              "      <th>start_year</th>\n",
              "      <th>runtime_minutes</th>\n",
              "      <th>vote_average</th>\n",
              "      <th>vote_count</th>\n",
              "      <th>popularity</th>\n",
              "      <th>Budget</th>\n",
              "    </tr>\n",
              "  </thead>\n",
              "  <tbody>\n",
              "    <tr>\n",
              "      <th>count</th>\n",
              "      <td>15369.000000</td>\n",
              "      <td>14736.000000</td>\n",
              "      <td>15369.000000</td>\n",
              "      <td>15369.000000</td>\n",
              "      <td>15369.000000</td>\n",
              "      <td>1.527400e+04</td>\n",
              "    </tr>\n",
              "    <tr>\n",
              "      <th>mean</th>\n",
              "      <td>2014.183747</td>\n",
              "      <td>93.392983</td>\n",
              "      <td>5.796272</td>\n",
              "      <td>262.441668</td>\n",
              "      <td>3.735265</td>\n",
              "      <td>5.328738e+06</td>\n",
              "    </tr>\n",
              "    <tr>\n",
              "      <th>std</th>\n",
              "      <td>2.528045</td>\n",
              "      <td>25.141013</td>\n",
              "      <td>1.765316</td>\n",
              "      <td>1126.980443</td>\n",
              "      <td>4.894076</td>\n",
              "      <td>2.225636e+07</td>\n",
              "    </tr>\n",
              "    <tr>\n",
              "      <th>min</th>\n",
              "      <td>2010.000000</td>\n",
              "      <td>1.000000</td>\n",
              "      <td>0.000000</td>\n",
              "      <td>1.000000</td>\n",
              "      <td>0.600000</td>\n",
              "      <td>0.000000e+00</td>\n",
              "    </tr>\n",
              "    <tr>\n",
              "      <th>25%</th>\n",
              "      <td>2012.000000</td>\n",
              "      <td>84.000000</td>\n",
              "      <td>5.000000</td>\n",
              "      <td>2.000000</td>\n",
              "      <td>0.655000</td>\n",
              "      <td>0.000000e+00</td>\n",
              "    </tr>\n",
              "    <tr>\n",
              "      <th>50%</th>\n",
              "      <td>2014.000000</td>\n",
              "      <td>91.000000</td>\n",
              "      <td>6.000000</td>\n",
              "      <td>7.000000</td>\n",
              "      <td>1.688000</td>\n",
              "      <td>0.000000e+00</td>\n",
              "    </tr>\n",
              "    <tr>\n",
              "      <th>75%</th>\n",
              "      <td>2016.000000</td>\n",
              "      <td>102.000000</td>\n",
              "      <td>6.900000</td>\n",
              "      <td>48.000000</td>\n",
              "      <td>5.436000</td>\n",
              "      <td>5.750000e+00</td>\n",
              "    </tr>\n",
              "    <tr>\n",
              "      <th>max</th>\n",
              "      <td>2021.000000</td>\n",
              "      <td>1834.000000</td>\n",
              "      <td>10.000000</td>\n",
              "      <td>22186.000000</td>\n",
              "      <td>80.773000</td>\n",
              "      <td>3.790000e+08</td>\n",
              "    </tr>\n",
              "  </tbody>\n",
              "</table>\n",
              "</div>\n",
              "    <div class=\"colab-df-buttons\">\n",
              "\n",
              "  <div class=\"colab-df-container\">\n",
              "    <button class=\"colab-df-convert\" onclick=\"convertToInteractive('df-55b5ad7c-0ffd-4371-b4f8-b0eb4f975930')\"\n",
              "            title=\"Convert this dataframe to an interactive table.\"\n",
              "            style=\"display:none;\">\n",
              "\n",
              "  <svg xmlns=\"http://www.w3.org/2000/svg\" height=\"24px\" viewBox=\"0 -960 960 960\">\n",
              "    <path d=\"M120-120v-720h720v720H120Zm60-500h600v-160H180v160Zm220 220h160v-160H400v160Zm0 220h160v-160H400v160ZM180-400h160v-160H180v160Zm440 0h160v-160H620v160ZM180-180h160v-160H180v160Zm440 0h160v-160H620v160Z\"/>\n",
              "  </svg>\n",
              "    </button>\n",
              "\n",
              "  <style>\n",
              "    .colab-df-container {\n",
              "      display:flex;\n",
              "      gap: 12px;\n",
              "    }\n",
              "\n",
              "    .colab-df-convert {\n",
              "      background-color: #E8F0FE;\n",
              "      border: none;\n",
              "      border-radius: 50%;\n",
              "      cursor: pointer;\n",
              "      display: none;\n",
              "      fill: #1967D2;\n",
              "      height: 32px;\n",
              "      padding: 0 0 0 0;\n",
              "      width: 32px;\n",
              "    }\n",
              "\n",
              "    .colab-df-convert:hover {\n",
              "      background-color: #E2EBFA;\n",
              "      box-shadow: 0px 1px 2px rgba(60, 64, 67, 0.3), 0px 1px 3px 1px rgba(60, 64, 67, 0.15);\n",
              "      fill: #174EA6;\n",
              "    }\n",
              "\n",
              "    .colab-df-buttons div {\n",
              "      margin-bottom: 4px;\n",
              "    }\n",
              "\n",
              "    [theme=dark] .colab-df-convert {\n",
              "      background-color: #3B4455;\n",
              "      fill: #D2E3FC;\n",
              "    }\n",
              "\n",
              "    [theme=dark] .colab-df-convert:hover {\n",
              "      background-color: #434B5C;\n",
              "      box-shadow: 0px 1px 3px 1px rgba(0, 0, 0, 0.15);\n",
              "      filter: drop-shadow(0px 1px 2px rgba(0, 0, 0, 0.3));\n",
              "      fill: #FFFFFF;\n",
              "    }\n",
              "  </style>\n",
              "\n",
              "    <script>\n",
              "      const buttonEl =\n",
              "        document.querySelector('#df-55b5ad7c-0ffd-4371-b4f8-b0eb4f975930 button.colab-df-convert');\n",
              "      buttonEl.style.display =\n",
              "        google.colab.kernel.accessAllowed ? 'block' : 'none';\n",
              "\n",
              "      async function convertToInteractive(key) {\n",
              "        const element = document.querySelector('#df-55b5ad7c-0ffd-4371-b4f8-b0eb4f975930');\n",
              "        const dataTable =\n",
              "          await google.colab.kernel.invokeFunction('convertToInteractive',\n",
              "                                                    [key], {});\n",
              "        if (!dataTable) return;\n",
              "\n",
              "        const docLinkHtml = 'Like what you see? Visit the ' +\n",
              "          '<a target=\"_blank\" href=https://colab.research.google.com/notebooks/data_table.ipynb>data table notebook</a>'\n",
              "          + ' to learn more about interactive tables.';\n",
              "        element.innerHTML = '';\n",
              "        dataTable['output_type'] = 'display_data';\n",
              "        await google.colab.output.renderOutput(dataTable, element);\n",
              "        const docLink = document.createElement('div');\n",
              "        docLink.innerHTML = docLinkHtml;\n",
              "        element.appendChild(docLink);\n",
              "      }\n",
              "    </script>\n",
              "  </div>\n",
              "\n",
              "\n",
              "<div id=\"df-43c52a9a-2e9a-4c3f-aca3-b4e465942533\">\n",
              "  <button class=\"colab-df-quickchart\" onclick=\"quickchart('df-43c52a9a-2e9a-4c3f-aca3-b4e465942533')\"\n",
              "            title=\"Suggest charts\"\n",
              "            style=\"display:none;\">\n",
              "\n",
              "<svg xmlns=\"http://www.w3.org/2000/svg\" height=\"24px\"viewBox=\"0 0 24 24\"\n",
              "     width=\"24px\">\n",
              "    <g>\n",
              "        <path d=\"M19 3H5c-1.1 0-2 .9-2 2v14c0 1.1.9 2 2 2h14c1.1 0 2-.9 2-2V5c0-1.1-.9-2-2-2zM9 17H7v-7h2v7zm4 0h-2V7h2v10zm4 0h-2v-4h2v4z\"/>\n",
              "    </g>\n",
              "</svg>\n",
              "  </button>\n",
              "\n",
              "<style>\n",
              "  .colab-df-quickchart {\n",
              "      --bg-color: #E8F0FE;\n",
              "      --fill-color: #1967D2;\n",
              "      --hover-bg-color: #E2EBFA;\n",
              "      --hover-fill-color: #174EA6;\n",
              "      --disabled-fill-color: #AAA;\n",
              "      --disabled-bg-color: #DDD;\n",
              "  }\n",
              "\n",
              "  [theme=dark] .colab-df-quickchart {\n",
              "      --bg-color: #3B4455;\n",
              "      --fill-color: #D2E3FC;\n",
              "      --hover-bg-color: #434B5C;\n",
              "      --hover-fill-color: #FFFFFF;\n",
              "      --disabled-bg-color: #3B4455;\n",
              "      --disabled-fill-color: #666;\n",
              "  }\n",
              "\n",
              "  .colab-df-quickchart {\n",
              "    background-color: var(--bg-color);\n",
              "    border: none;\n",
              "    border-radius: 50%;\n",
              "    cursor: pointer;\n",
              "    display: none;\n",
              "    fill: var(--fill-color);\n",
              "    height: 32px;\n",
              "    padding: 0;\n",
              "    width: 32px;\n",
              "  }\n",
              "\n",
              "  .colab-df-quickchart:hover {\n",
              "    background-color: var(--hover-bg-color);\n",
              "    box-shadow: 0 1px 2px rgba(60, 64, 67, 0.3), 0 1px 3px 1px rgba(60, 64, 67, 0.15);\n",
              "    fill: var(--button-hover-fill-color);\n",
              "  }\n",
              "\n",
              "  .colab-df-quickchart-complete:disabled,\n",
              "  .colab-df-quickchart-complete:disabled:hover {\n",
              "    background-color: var(--disabled-bg-color);\n",
              "    fill: var(--disabled-fill-color);\n",
              "    box-shadow: none;\n",
              "  }\n",
              "\n",
              "  .colab-df-spinner {\n",
              "    border: 2px solid var(--fill-color);\n",
              "    border-color: transparent;\n",
              "    border-bottom-color: var(--fill-color);\n",
              "    animation:\n",
              "      spin 1s steps(1) infinite;\n",
              "  }\n",
              "\n",
              "  @keyframes spin {\n",
              "    0% {\n",
              "      border-color: transparent;\n",
              "      border-bottom-color: var(--fill-color);\n",
              "      border-left-color: var(--fill-color);\n",
              "    }\n",
              "    20% {\n",
              "      border-color: transparent;\n",
              "      border-left-color: var(--fill-color);\n",
              "      border-top-color: var(--fill-color);\n",
              "    }\n",
              "    30% {\n",
              "      border-color: transparent;\n",
              "      border-left-color: var(--fill-color);\n",
              "      border-top-color: var(--fill-color);\n",
              "      border-right-color: var(--fill-color);\n",
              "    }\n",
              "    40% {\n",
              "      border-color: transparent;\n",
              "      border-right-color: var(--fill-color);\n",
              "      border-top-color: var(--fill-color);\n",
              "    }\n",
              "    60% {\n",
              "      border-color: transparent;\n",
              "      border-right-color: var(--fill-color);\n",
              "    }\n",
              "    80% {\n",
              "      border-color: transparent;\n",
              "      border-right-color: var(--fill-color);\n",
              "      border-bottom-color: var(--fill-color);\n",
              "    }\n",
              "    90% {\n",
              "      border-color: transparent;\n",
              "      border-bottom-color: var(--fill-color);\n",
              "    }\n",
              "  }\n",
              "</style>\n",
              "\n",
              "  <script>\n",
              "    async function quickchart(key) {\n",
              "      const quickchartButtonEl =\n",
              "        document.querySelector('#' + key + ' button');\n",
              "      quickchartButtonEl.disabled = true;  // To prevent multiple clicks.\n",
              "      quickchartButtonEl.classList.add('colab-df-spinner');\n",
              "      try {\n",
              "        const charts = await google.colab.kernel.invokeFunction(\n",
              "            'suggestCharts', [key], {});\n",
              "      } catch (error) {\n",
              "        console.error('Error during call to suggestCharts:', error);\n",
              "      }\n",
              "      quickchartButtonEl.classList.remove('colab-df-spinner');\n",
              "      quickchartButtonEl.classList.add('colab-df-quickchart-complete');\n",
              "    }\n",
              "    (() => {\n",
              "      let quickchartButtonEl =\n",
              "        document.querySelector('#df-43c52a9a-2e9a-4c3f-aca3-b4e465942533 button');\n",
              "      quickchartButtonEl.style.display =\n",
              "        google.colab.kernel.accessAllowed ? 'block' : 'none';\n",
              "    })();\n",
              "  </script>\n",
              "</div>\n",
              "\n",
              "    </div>\n",
              "  </div>\n"
            ],
            "application/vnd.google.colaboratory.intrinsic+json": {
              "type": "dataframe",
              "summary": "{\n  \"name\": \"merged_data\",\n  \"rows\": 8,\n  \"fields\": [\n    {\n      \"column\": \"start_year\",\n      \"properties\": {\n        \"dtype\": \"number\",\n        \"std\": 4874.256483909158,\n        \"min\": 2.5280454479408085,\n        \"max\": 15369.0,\n        \"num_unique_values\": 8,\n        \"samples\": [\n          2014.1837465027002,\n          2014.0,\n          15369.0\n        ],\n        \"semantic_type\": \"\",\n        \"description\": \"\"\n      }\n    },\n    {\n      \"column\": \"runtime_minutes\",\n      \"properties\": {\n        \"dtype\": \"number\",\n        \"std\": 5134.831181533904,\n        \"min\": 1.0,\n        \"max\": 14736.0,\n        \"num_unique_values\": 8,\n        \"samples\": [\n          93.39298317046688,\n          91.0,\n          14736.0\n        ],\n        \"semantic_type\": \"\",\n        \"description\": \"\"\n      }\n    },\n    {\n      \"column\": \"vote_average\",\n      \"properties\": {\n        \"dtype\": \"number\",\n        \"std\": 5431.971843026115,\n        \"min\": 0.0,\n        \"max\": 15369.0,\n        \"num_unique_values\": 8,\n        \"samples\": [\n          5.796271715791528,\n          6.0,\n          15369.0\n        ],\n        \"semantic_type\": \"\",\n        \"description\": \"\"\n      }\n    },\n    {\n      \"column\": \"vote_count\",\n      \"properties\": {\n        \"dtype\": \"number\",\n        \"std\": 8779.989092355216,\n        \"min\": 1.0,\n        \"max\": 22186.0,\n        \"num_unique_values\": 8,\n        \"samples\": [\n          262.4416682933177,\n          7.0,\n          15369.0\n        ],\n        \"semantic_type\": \"\",\n        \"description\": \"\"\n      }\n    },\n    {\n      \"column\": \"popularity\",\n      \"properties\": {\n        \"dtype\": \"number\",\n        \"std\": 5428.892161915704,\n        \"min\": 0.6,\n        \"max\": 15369.0,\n        \"num_unique_values\": 8,\n        \"samples\": [\n          3.735265144121283,\n          1.688,\n          15369.0\n        ],\n        \"semantic_type\": \"\",\n        \"description\": \"\"\n      }\n    },\n    {\n      \"column\": \"Budget\",\n      \"properties\": {\n        \"dtype\": \"number\",\n        \"std\": 132826018.35924008,\n        \"min\": 0.0,\n        \"max\": 379000000.0,\n        \"num_unique_values\": 6,\n        \"samples\": [\n          15274.0,\n          5328737.714023831,\n          379000000.0\n        ],\n        \"semantic_type\": \"\",\n        \"description\": \"\"\n      }\n    }\n  ]\n}"
            }
          },
          "metadata": {},
          "execution_count": 13
        }
      ]
    },
    {
      "cell_type": "code",
      "execution_count": 14,
      "metadata": {
        "colab": {
          "base_uri": "https://localhost:8080/"
        },
        "id": "5p5p5fTJllr2",
        "outputId": "ee978f2c-20af-430f-bef1-2030a02f9a6e"
      },
      "outputs": [
        {
          "output_type": "stream",
          "name": "stdout",
          "text": [
            "<class 'pandas.core.frame.DataFrame'>\n",
            "RangeIndex: 15369 entries, 0 to 15368\n",
            "Data columns (total 11 columns):\n",
            " #   Column           Non-Null Count  Dtype  \n",
            "---  ------           --------------  -----  \n",
            " 0   primary_title    15369 non-null  object \n",
            " 1   start_year       15369 non-null  int64  \n",
            " 2   runtime_minutes  14736 non-null  float64\n",
            " 3   genres           15272 non-null  object \n",
            " 4   vote_average     15369 non-null  float64\n",
            " 5   vote_count       15369 non-null  int64  \n",
            " 6   Top Cast         14244 non-null  object \n",
            " 7   Director         15001 non-null  object \n",
            " 8   popularity       15369 non-null  float64\n",
            " 9   Budget           15274 non-null  float64\n",
            " 10  Revenue          15274 non-null  object \n",
            "dtypes: float64(4), int64(2), object(5)\n",
            "memory usage: 1.3+ MB\n"
          ]
        }
      ],
      "source": [
        "merged_data.info()"
      ]
    },
    {
      "cell_type": "markdown",
      "metadata": {
        "id": "YTMU5VqhfwkH"
      },
      "source": [
        "## **DATA STATISTICS**\n",
        "\n",
        "Below are the data statistics concepts we will delve into:\n",
        "\n",
        "\n",
        "\n",
        "1.   Cumulative Distribution Function (CDF)\n",
        "2.   Standard Normal Distribution\n",
        "3.   Central Limit Theorem\n",
        "4.   Confidence Intervals with T-Distribution\n",
        "5.   Hypothesis Testing\n"
      ]
    },
    {
      "cell_type": "markdown",
      "metadata": {
        "id": "kiuc0tLIfwkI"
      },
      "source": [
        "The Probability Density Function (PDF) of popularity shows a right-skewed normal distribution with the highest density around the mean. This suggests that most data points cluster near the average popularity, while extreme values are less frequent. The rapid decline in density beyond the peak highlights the diminishing probability of higher popularity values."
      ]
    },
    {
      "cell_type": "markdown",
      "metadata": {
        "id": "VmS0ppw6YH-8"
      },
      "source": [
        "### Cumulative Distribution Function (CDF)"
      ]
    },
    {
      "cell_type": "code",
      "execution_count": 15,
      "metadata": {
        "id": "Jl5Hyhx4fwkI",
        "outputId": "040372c3-6f6c-4d85-83c8-8ad8289c7a2e",
        "colab": {
          "base_uri": "https://localhost:8080/",
          "height": 472
        }
      },
      "outputs": [
        {
          "output_type": "display_data",
          "data": {
            "text/plain": [
              "<Figure size 640x480 with 1 Axes>"
            ],
            "image/png": "[encoded data removed]"
          },
          "metadata": {}
        }
      ],
      "source": [
        "# Cumulative Distribution Function (CDF) for revenue\n",
        "# Purpose: To show the cumulative probability up to a certain value (revenue)\n",
        "# Make sure 'Revenue' column is numeric and handle missing values\n",
        "merged_data['Revenue'] = pd.to_numeric(merged_data['Revenue'], errors='coerce')\n",
        "revenue = merged_data['Revenue'].dropna()\n",
        "revenue = merged_data['Revenue']\n",
        "cdf_x = np.sort(revenue)\n",
        "cdf_y = np.arange(1, len(cdf_x) + 1) / len(cdf_x)\n",
        "\n",
        "plt.figure()\n",
        "plt.plot(cdf_x, cdf_y, label='CDF', color='green')\n",
        "plt.title('Cumulative Distribution Function (CDF) of Revenue')\n",
        "plt.xlabel('Revenue')\n",
        "plt.ylabel('Cumulative Probability')\n",
        "plt.legend()\n",
        "plt.grid(alpha=0.7)\n",
        "plt.show()\n"
      ]
    },
    {
      "cell_type": "markdown",
      "metadata": {
        "id": "D3xqFsf_fwkI"
      },
      "source": [
        "The Cumulative Distribution Function (CDF) for Revenue indicates that the majority of revenue values are concentrated below a specific threshold. Around 80% of the data lies below 0.5 billion, suggesting a skewed distribution with a few extreme high-revenue outliers. This visualization effectively captures the cumulative probability of revenue values across the dataset."
      ]
    },
    {
      "cell_type": "markdown",
      "metadata": {
        "id": "6Bo1HqtSYNzQ"
      },
      "source": [
        "### Standard Normal Distribution"
      ]
    },
    {
      "cell_type": "code",
      "execution_count": 16,
      "metadata": {
        "id": "glc6wxDkfwkI",
        "outputId": "e60dd4f3-9359-4f5b-b3bd-79543b35602c",
        "colab": {
          "base_uri": "https://localhost:8080/",
          "height": 472
        }
      },
      "outputs": [
        {
          "output_type": "display_data",
          "data": {
            "text/plain": [
              "<Figure size 640x480 with 1 Axes>"
            ],
            "image/png": "[encoded data removed]"
          },
          "metadata": {}
        }
      ],
      "source": [
        "#  Standard Normal Distribution\n",
        "# Purpose: To represent a standardized normal distribution for reference\n",
        "standard_normal_x = np.linspace(-4, 4, 1000)\n",
        "standard_normal_y = norm.pdf(standard_normal_x)\n",
        "\n",
        "plt.figure()\n",
        "plt.plot(standard_normal_x, standard_normal_y, label='Standard Normal Distribution', color='purple')\n",
        "plt.title('Standard Normal Distribution')\n",
        "plt.xlabel('z-score')\n",
        "plt.ylabel('Density')\n",
        "plt.legend()\n",
        "plt.grid(alpha=0.7)\n",
        "plt.show()"
      ]
    },
    {
      "cell_type": "markdown",
      "metadata": {
        "id": "srkvOYIWfwkI"
      },
      "source": [
        "The standard normal distribution graph shows a symmetrical bell curve centered at a z-score of 0, with most of the density concentrated between -2 and 2. This curve represents a normal distribution standardized to have a mean of 0 and a standard deviation of 1, used to analyze and compare datasets. It highlights the probability of values occurring within specific ranges of standard deviations."
      ]
    },
    {
      "cell_type": "markdown",
      "metadata": {
        "id": "ZYTl9-_4YTLU"
      },
      "source": [
        "### Central Limit Theorem"
      ]
    },
    {
      "cell_type": "code",
      "execution_count": 17,
      "metadata": {
        "id": "MpKqhTBpfwkJ",
        "outputId": "267be80b-5c06-40c1-b795-a59f2e28c036",
        "colab": {
          "base_uri": "https://localhost:8080/",
          "height": 472
        }
      },
      "outputs": [
        {
          "output_type": "display_data",
          "data": {
            "text/plain": [
              "<Figure size 640x480 with 1 Axes>"
            ],
            "image/png": "[encoded data removed]"
          },
          "metadata": {}
        }
      ],
      "source": [
        "# Central Limit Theorem (CLT) demonstration with 'runtime_minutes'\n",
        "# Purpose: To demonstrate how sample means approximate a normal distribution\n",
        "sample_means = []\n",
        "sample_size = 30\n",
        "for _ in range(1000):\n",
        "    sample = merged_data['runtime_minutes'].dropna().sample(sample_size, replace=True)\n",
        "    sample_means.append(sample.mean())\n",
        "plt.figure()\n",
        "plt.hist(sample_means, bins=30, density=True, alpha=0.6, color='g')\n",
        "plt.title('Central Limit Theorem Demonstration')\n",
        "plt.xlabel('Sample Mean')\n",
        "plt.ylabel('Frequency')\n",
        "plt.grid(alpha=0.7)\n",
        "plt.show()\n"
      ]
    },
    {
      "cell_type": "markdown",
      "metadata": {
        "id": "n6zoxELcfwkJ"
      },
      "source": [
        "The standard normal distribution is a symmetrical bell-shaped curve centered at 0, representing a mean of 0 and a standard deviation of 1. Most data points lie within ±2 standard deviations, showcasing how data clusters around the mean in a normalized scale."
      ]
    },
    {
      "cell_type": "markdown",
      "metadata": {
        "id": "mwDDtaBcYZjN"
      },
      "source": [
        "### Confidence Intervals with T-Distribution"
      ]
    },
    {
      "cell_type": "code",
      "execution_count": 18,
      "metadata": {
        "id": "UXZxvnlWfwkJ",
        "outputId": "54ad2ced-62b1-45b6-99a8-a959f8a16a1f",
        "colab": {
          "base_uri": "https://localhost:8080/",
          "height": 469
        }
      },
      "outputs": [
        {
          "output_type": "stream",
          "name": "stdout",
          "text": [
            "Confidence Interval for 'Budget': 4975749.52 to 5681725.91\n"
          ]
        },
        {
          "output_type": "display_data",
          "data": {
            "text/plain": [
              "<Figure size 640x480 with 1 Axes>"
            ],
            "image/png": "[encoded data removed]"
          },
          "metadata": {}
        }
      ],
      "source": [
        "# Confidence Intervals with T-Distribution for 'Budget'\n",
        "# Purpose: To estimate the range within which the true mean of Budget lies\n",
        "budget = merged_data['Budget'].dropna()\n",
        "confidence_level = 0.95\n",
        "sample_mean = np.mean(budget)\n",
        "sample_std = np.std(budget, ddof=1)\n",
        "n = len(budget)\n",
        "t_critical = t.ppf((1 + confidence_level) / 2, df=n-1)\n",
        "margin_of_error = t_critical * (sample_std / np.sqrt(n))\n",
        "\n",
        "print(f\"Confidence Interval for 'Budget': {sample_mean - margin_of_error:.2f} to {sample_mean + margin_of_error:.2f}\")\n",
        "\n",
        "# Visualize Confidence Interval\n",
        "plt.figure()\n",
        "plt.errorbar(1, sample_mean, yerr=margin_of_error, fmt='o', color='red', label='Confidence Interval')\n",
        "plt.hlines([sample_mean - margin_of_error, sample_mean + margin_of_error], 0.5, 1.5, colors='blue', linestyles='dashed', label='Margin of Error')\n",
        "plt.xlim(0.5, 1.5)\n",
        "plt.xticks([1], ['Budget'])\n",
        "plt.title('Confidence Interval for Budget')\n",
        "plt.ylabel('Budget')\n",
        "plt.legend()\n",
        "plt.grid(alpha=0.7)\n",
        "plt.show()\n"
      ]
    },
    {
      "cell_type": "markdown",
      "metadata": {
        "id": "Saf9S29dfwkJ"
      },
      "source": [
        "The confidence interval for the Budget is visualized with the sample mean shown as a red dot, and the blue dashed lines indicate the margin of error. The interval ranges from approximately 19,900,890.63 to 22,457,235.75. This range represents the 95% confidence level, meaning we are 95% confident that the true mean of the Budget lies within this interval. The narrow range indicates relatively low variability in the budget data."
      ]
    },
    {
      "cell_type": "markdown",
      "metadata": {
        "id": "oZwB2DnmYgVM"
      },
      "source": [
        "### Hypothesis Testing"
      ]
    },
    {
      "cell_type": "code",
      "execution_count": 19,
      "metadata": {
        "id": "foyF0IBMfwkJ",
        "outputId": "f6578960-2bb3-404a-9655-f65781539b57",
        "colab": {
          "base_uri": "https://localhost:8080/",
          "height": 541
        }
      },
      "outputs": [
        {
          "output_type": "stream",
          "name": "stdout",
          "text": [
            "Hypothesis Test for 'Budget':\n",
            "Test Statistic: 24.04\n",
            "P-value: 0.0000\n",
            "Reject the null hypothesis (mean is significantly different from 1 million).\n"
          ]
        },
        {
          "output_type": "display_data",
          "data": {
            "text/plain": [
              "<Figure size 640x480 with 1 Axes>"
            ],
            "image/png": "[encoded data removed]"
          },
          "metadata": {}
        }
      ],
      "source": [
        "# Hypothesis Testing for 'Budget'\n",
        "# Purpose: To test whether the mean Budget is significantly different from a hypothesized value\n",
        "hypothesized_mean = 1_000_000\n",
        "stat, p_value = ttest_1samp(merged_data['Budget'].dropna(), hypothesized_mean)\n",
        "\n",
        "print(\"Hypothesis Test for 'Budget':\")\n",
        "print(f\"Test Statistic: {stat:.2f}\")\n",
        "print(f\"P-value: {p_value:.4f}\")\n",
        "if p_value < 0.05:\n",
        "    print(\"Reject the null hypothesis (mean is significantly different from 1 million).\")\n",
        "else:\n",
        "    print(\"Fail to reject the null hypothesis (no significant difference from 1 million).\")\n",
        "\n",
        "# Visualize Hypothesis Test\n",
        "plt.figure()\n",
        "plt.hist(merged_data['Budget'], bins=30, color='skyblue', alpha=0.7, label='Budget Distribution')\n",
        "plt.axvline(hypothesized_mean, color='red', linestyle='--', linewidth=2, label='Hypothesized Mean')\n",
        "plt.axvline(np.mean(merged_data['Budget']), color='green', linestyle='-', linewidth=2, label='Sample Mean')\n",
        "plt.title('Hypothesis Test Visualization for Budget')\n",
        "plt.xlabel('Budget')\n",
        "plt.ylabel('Frequency')\n",
        "plt.legend()\n",
        "plt.grid(alpha=0.7)\n",
        "plt.show()"
      ]
    },
    {
      "cell_type": "markdown",
      "metadata": {
        "id": "QPdYepjkfwkJ"
      },
      "source": [
        "The hypothesis test for Budget shows a test statistic of 30.95 and a p-value of 0.0000, indicating a significant difference between the sample mean and the hypothesized mean of $1,000,000. The histogram illustrates the budget distribution, with the red line marking the hypothesized mean and the green line representing the sample mean. The clear separation confirms the statistical result, rejecting the null hypothesis."
      ]
    }
  ],
  "metadata": {
    "colab": {
      "provenance": []
    },
    "kernelspec": {
      "display_name": "base",
      "language": "python",
      "name": "python3"
    },
    "language_info": {
      "codemirror_mode": {
        "name": "ipython",
        "version": 3
      },
      "file_extension": ".py",
      "mimetype": "text/x-python",
      "name": "python",
      "nbconvert_exporter": "python",
      "pygments_lexer": "ipython3",
      "version": "3.11.7"
    }
  },
  "nbformat": 4,
  "nbformat_minor": 0
}